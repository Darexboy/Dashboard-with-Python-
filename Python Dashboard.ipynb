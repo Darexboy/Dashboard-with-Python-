{
 "cells": [
  {
   "cell_type": "markdown",
   "metadata": {},
   "source": [
    "As a data analyst, you have been given a task to monitor and report US domestic airline flights performance. Goal is to analyze the performance of the reporting airline to improve fight reliability thereby improving customer relaibility.\n",
    "\n",
    "Below are the key report items,\n",
    "\n",
    "*   Yearly airline performance report \n",
    "*   Yearly average flight delay statistics\n"
   ]
  },
  {
   "cell_type": "markdown",
   "metadata": {},
   "source": [
    "## Loading the Dataset"
   ]
  },
  {
   "cell_type": "code",
   "execution_count": 15,
   "metadata": {
    "tags": []
   },
   "outputs": [
    {
     "data": {
      "text/html": [
       "<div>\n",
       "<style scoped>\n",
       "    .dataframe tbody tr th:only-of-type {\n",
       "        vertical-align: middle;\n",
       "    }\n",
       "\n",
       "    .dataframe tbody tr th {\n",
       "        vertical-align: top;\n",
       "    }\n",
       "\n",
       "    .dataframe thead th {\n",
       "        text-align: right;\n",
       "    }\n",
       "</style>\n",
       "<table border=\"1\" class=\"dataframe\">\n",
       "  <thead>\n",
       "    <tr style=\"text-align: right;\">\n",
       "      <th></th>\n",
       "      <th>CRSDepTime</th>\n",
       "      <th>DepTime</th>\n",
       "      <th>DepDelay</th>\n",
       "      <th>DepDelayMinutes</th>\n",
       "      <th>DepDel15</th>\n",
       "      <th>DepartureDelayGroups</th>\n",
       "      <th>DepTimeBlk</th>\n",
       "      <th>TaxiOut</th>\n",
       "      <th>WheelsOff</th>\n",
       "      <th>WheelsOn</th>\n",
       "      <th>TaxiIn</th>\n",
       "      <th>CRSArrTime</th>\n",
       "      <th>ArrTime</th>\n",
       "      <th>ArrDelay</th>\n",
       "      <th>ArrDelayMinutes</th>\n",
       "      <th>ArrDel15</th>\n",
       "      <th>ArrivalDelayGroups</th>\n",
       "      <th>ArrTimeBlk</th>\n",
       "      <th>Cancelled</th>\n",
       "      <th>CancellationCode</th>\n",
       "    </tr>\n",
       "  </thead>\n",
       "  <tbody>\n",
       "    <tr>\n",
       "      <th>0</th>\n",
       "      <td>1330</td>\n",
       "      <td>1330.0</td>\n",
       "      <td>0.0</td>\n",
       "      <td>0.0</td>\n",
       "      <td>0.0</td>\n",
       "      <td>0.0</td>\n",
       "      <td>1300-1359</td>\n",
       "      <td>8.0</td>\n",
       "      <td>1338.0</td>\n",
       "      <td>1415.0</td>\n",
       "      <td>5.0</td>\n",
       "      <td>1426</td>\n",
       "      <td>1420.0</td>\n",
       "      <td>-6.0</td>\n",
       "      <td>0.0</td>\n",
       "      <td>0.0</td>\n",
       "      <td>-1.0</td>\n",
       "      <td>1400-1459</td>\n",
       "      <td>0.0</td>\n",
       "      <td>NaN</td>\n",
       "    </tr>\n",
       "    <tr>\n",
       "      <th>1</th>\n",
       "      <td>1301</td>\n",
       "      <td>1255.0</td>\n",
       "      <td>-6.0</td>\n",
       "      <td>0.0</td>\n",
       "      <td>0.0</td>\n",
       "      <td>-1.0</td>\n",
       "      <td>1300-1359</td>\n",
       "      <td>9.0</td>\n",
       "      <td>1304.0</td>\n",
       "      <td>1358.0</td>\n",
       "      <td>13.0</td>\n",
       "      <td>1423</td>\n",
       "      <td>1411.0</td>\n",
       "      <td>-12.0</td>\n",
       "      <td>0.0</td>\n",
       "      <td>0.0</td>\n",
       "      <td>-1.0</td>\n",
       "      <td>1400-1459</td>\n",
       "      <td>0.0</td>\n",
       "      <td>NaN</td>\n",
       "    </tr>\n",
       "  </tbody>\n",
       "</table>\n",
       "</div>"
      ],
      "text/plain": [
       "   CRSDepTime  DepTime  DepDelay  DepDelayMinutes  DepDel15  \\\n",
       "0        1330   1330.0       0.0              0.0       0.0   \n",
       "1        1301   1255.0      -6.0              0.0       0.0   \n",
       "\n",
       "   DepartureDelayGroups DepTimeBlk  TaxiOut  WheelsOff  WheelsOn  TaxiIn  \\\n",
       "0                   0.0  1300-1359      8.0     1338.0    1415.0     5.0   \n",
       "1                  -1.0  1300-1359      9.0     1304.0    1358.0    13.0   \n",
       "\n",
       "   CRSArrTime  ArrTime  ArrDelay  ArrDelayMinutes  ArrDel15  \\\n",
       "0        1426   1420.0      -6.0              0.0       0.0   \n",
       "1        1423   1411.0     -12.0              0.0       0.0   \n",
       "\n",
       "   ArrivalDelayGroups ArrTimeBlk  Cancelled CancellationCode  \n",
       "0                -1.0  1400-1459        0.0              NaN  \n",
       "1                -1.0  1400-1459        0.0              NaN  "
      ]
     },
     "execution_count": 15,
     "metadata": {},
     "output_type": "execute_result"
    }
   ],
   "source": [
    "import pandas as pd\n",
    "airline_data =  pd.read_csv('airline_data.csv', \n",
    "                            encoding = \"ISO-8859-1\",\n",
    "                            dtype={'Div1Airport': str, 'Div1TailNum': str, \n",
    "                                   'Div2Airport': str, 'Div2TailNum': str})\n",
    "# Displaying the first two rows\n",
    "airline_data.iloc[:2,30:50]"
   ]
  },
  {
   "cell_type": "code",
   "execution_count": 31,
   "metadata": {},
   "outputs": [
    {
     "data": {
      "text/plain": [
       "(27000, 110)"
      ]
     },
     "execution_count": 31,
     "metadata": {},
     "output_type": "execute_result"
    }
   ],
   "source": [
    "airline_data.shape"
   ]
  },
  {
   "cell_type": "code",
   "execution_count": 32,
   "metadata": {},
   "outputs": [
    {
     "data": {
      "text/plain": [
       "Index(['Unnamed: 0', 'Year', 'Quarter', 'Month', 'DayofMonth', 'DayOfWeek',\n",
       "       'FlightDate', 'Reporting_Airline', 'DOT_ID_Reporting_Airline',\n",
       "       'IATA_CODE_Reporting_Airline',\n",
       "       ...\n",
       "       'Div4WheelsOff', 'Div4TailNum', 'Div5Airport', 'Div5AirportID',\n",
       "       'Div5AirportSeqID', 'Div5WheelsOn', 'Div5TotalGTime',\n",
       "       'Div5LongestGTime', 'Div5WheelsOff', 'Div5TailNum'],\n",
       "      dtype='object', length=110)"
      ]
     },
     "execution_count": 32,
     "metadata": {},
     "output_type": "execute_result"
    }
   ],
   "source": [
    "airline_data.columns"
   ]
  },
  {
   "cell_type": "markdown",
   "metadata": {},
   "source": [
    "## Importing the required libraries"
   ]
  },
  {
   "cell_type": "code",
   "execution_count": null,
   "metadata": {},
   "outputs": [],
   "source": [
    "import pandas as pd\n",
    "import dash\n",
    "from dash import dcc\n",
    "from dash import html\n",
    "from dash.dependencies import Input, Output, State\n",
    "from jupyter_dash import JupyterDash\n",
    "import plotly.graph_objects as go\n",
    "import plotly.express as px\n",
    "from dash import no_update\n",
    "from flask import request"
   ]
  },
  {
   "cell_type": "code",
   "execution_count": 11,
   "metadata": {},
   "outputs": [
    {
     "name": "stdout",
     "output_type": "stream",
     "text": [
      "Dash is running on http://localhost:2221/\n",
      "\n"
     ]
    },
    {
     "name": "stderr",
     "output_type": "stream",
     "text": [
      " * Running on http://localhost:2221/ (Press CTRL+C to quit)\n",
      "127.0.0.1 - - [26/Mar/2023 14:13:30] \"\u001b[37mGET /_alive_70c58b49-1a22-4592-858c-100b7a373430 HTTP/1.1\u001b[0m\" 200 -\n"
     ]
    },
    {
     "data": {
      "text/html": [
       "\n",
       "        <iframe\n",
       "            width=\"100%\"\n",
       "            height=\"650\"\n",
       "            src=\"http://localhost:2221/\"\n",
       "            frameborder=\"0\"\n",
       "            allowfullscreen\n",
       "        ></iframe>\n",
       "        "
      ],
      "text/plain": [
       "<IPython.lib.display.IFrame at 0x197d3086580>"
      ]
     },
     "metadata": {},
     "output_type": "display_data"
    },
    {
     "name": "stderr",
     "output_type": "stream",
     "text": [
      "127.0.0.1 - - [26/Mar/2023 14:13:30] \"\u001b[37mGET / HTTP/1.1\u001b[0m\" 200 -\n",
      "127.0.0.1 - - [26/Mar/2023 14:13:30] \"\u001b[37mGET /_dash-layout HTTP/1.1\u001b[0m\" 200 -\n",
      "127.0.0.1 - - [26/Mar/2023 14:13:30] \"\u001b[37mGET /_dash-dependencies HTTP/1.1\u001b[0m\" 200 -\n",
      "127.0.0.1 - - [26/Mar/2023 14:13:30] \"\u001b[37mGET /_dash-component-suites/dash/dcc/async-dropdown.js HTTP/1.1\u001b[0m\" 200 -\n",
      "127.0.0.1 - - [26/Mar/2023 14:13:31] \"\u001b[35m\u001b[1mPOST /_dash-update-component HTTP/1.1\u001b[0m\" 500 -\n"
     ]
    },
    {
     "name": "stdout",
     "output_type": "stream",
     "text": [
      "\u001b[1;31m---------------------------------------------------------------------------\u001b[0m\n",
      "\u001b[1;31mTypeError\u001b[0m                                 Traceback (most recent call last)\n",
      "\u001b[1;31mTypeError\u001b[0m: int() argument must be a string, a bytes-like object or a number, not 'NoneType'\n",
      "\n"
     ]
    },
    {
     "name": "stderr",
     "output_type": "stream",
     "text": [
      "127.0.0.1 - - [26/Mar/2023 14:13:49] \"\u001b[37mGET / HTTP/1.1\u001b[0m\" 200 -\n",
      "127.0.0.1 - - [26/Mar/2023 14:13:50] \"\u001b[37mGET /_dash-layout HTTP/1.1\u001b[0m\" 200 -\n",
      "127.0.0.1 - - [26/Mar/2023 14:13:50] \"\u001b[37mGET /_dash-dependencies HTTP/1.1\u001b[0m\" 200 -\n",
      "127.0.0.1 - - [26/Mar/2023 14:13:50] \"\u001b[35m\u001b[1mPOST /_dash-update-component HTTP/1.1\u001b[0m\" 500 -\n",
      "127.0.0.1 - - [26/Mar/2023 14:13:50] \"\u001b[37mGET /_dash-component-suites/dash/dcc/async-dropdown.js HTTP/1.1\u001b[0m\" 200 -\n"
     ]
    },
    {
     "name": "stdout",
     "output_type": "stream",
     "text": [
      "\u001b[1;31m---------------------------------------------------------------------------\u001b[0m\n",
      "\u001b[1;31mTypeError\u001b[0m                                 Traceback (most recent call last)\n",
      "\u001b[1;31mTypeError\u001b[0m: int() argument must be a string, a bytes-like object or a number, not 'NoneType'\n",
      "\n"
     ]
    },
    {
     "name": "stderr",
     "output_type": "stream",
     "text": [
      "127.0.0.1 - - [26/Mar/2023 14:13:52] \"\u001b[35m\u001b[1mPOST /_dash-update-component HTTP/1.1\u001b[0m\" 500 -\n"
     ]
    },
    {
     "name": "stdout",
     "output_type": "stream",
     "text": [
      "\u001b[1;31m---------------------------------------------------------------------------\u001b[0m\n",
      "\u001b[1;31mTypeError\u001b[0m                                 Traceback (most recent call last)\n",
      "\u001b[1;31mTypeError\u001b[0m: int() argument must be a string, a bytes-like object or a number, not 'NoneType'\n",
      "\n"
     ]
    },
    {
     "name": "stderr",
     "output_type": "stream",
     "text": [
      "127.0.0.1 - - [26/Mar/2023 14:13:58] \"\u001b[37mPOST /_dash-update-component HTTP/1.1\u001b[0m\" 200 -\n",
      "127.0.0.1 - - [26/Mar/2023 14:13:58] \"\u001b[37mGET /_dash-component-suites/dash/dcc/async-graph.js HTTP/1.1\u001b[0m\" 200 -\n",
      "127.0.0.1 - - [26/Mar/2023 14:13:59] \"\u001b[37mGET /_dash-component-suites/dash/dcc/async-plotlyjs.js HTTP/1.1\u001b[0m\" 200 -\n"
     ]
    }
   ],
   "source": [
    "# Creating the dash application\n",
    "app = JupyterDash(__name__)\n",
    "JupyterDash.infer_jupyter_proxy_config\n",
    "\n",
    "# Clear the layout and do not display exception till callback gets executed\n",
    "app.config.suppress_callback_exceptions = True\n",
    "\n",
    "\n",
    "# List of years \n",
    "year_list = [i for i in range(2005, 2021, 1)]\n",
    "\n",
    "# creating a function to get each filtered data for creating yearly airline performance report \n",
    "\n",
    "def compute_data_choice_1(df):\n",
    "    # Cancellation Category Count\n",
    "    bar_data = df.groupby(['Month','CancellationCode'])['Flights'].sum().reset_index()\n",
    "    # Average flight time by reporting airline\n",
    "    line_data = df.groupby(['Month','Reporting_Airline'])['AirTime'].mean().reset_index()\n",
    "    # Diverted Airport Landings\n",
    "    div_data = df[df['DivAirportLandings'] != 0.0]\n",
    "    # Source state count\n",
    "    map_data = df.groupby(['OriginState'])['Flights'].sum().reset_index()\n",
    "    # Destination state count\n",
    "    tree_data = df.groupby(['DestState', 'Reporting_Airline'])['Flights'].sum().reset_index()\n",
    "    return bar_data, line_data, div_data, map_data, tree_data\n",
    "\n",
    "# creating a function to get each filtered data for creating yearly airline delay report\n",
    "\n",
    "def compute_data_choice_2(df):\n",
    "    # Compute delay averages\n",
    "    avg_car = df.groupby(['Month','Reporting_Airline'])['CarrierDelay'].mean().reset_index()\n",
    "    avg_weather = df.groupby(['Month','Reporting_Airline'])['WeatherDelay'].mean().reset_index()\n",
    "    avg_NAS = df.groupby(['Month','Reporting_Airline'])['NASDelay'].mean().reset_index()\n",
    "    avg_sec = df.groupby(['Month','Reporting_Airline'])['SecurityDelay'].mean().reset_index()\n",
    "    avg_late = df.groupby(['Month','Reporting_Airline'])['LateAircraftDelay'].mean().reset_index()\n",
    "    return avg_car, avg_weather, avg_NAS, avg_sec, avg_late\n",
    "\n",
    "\n",
    "# Application layout\n",
    "app.layout = html.Div(children= [html.H1('US Domestic Airline Flights Performance',\n",
    "                                         style = {'textAlign': 'center',\n",
    "                                                 'color': '#503D36',\n",
    "                                                 'font-size':24}),\n",
    "\n",
    "                                # Dropdown creation\n",
    "                                # Creating an outer division \n",
    "                                html.Div([\n",
    "                                    # Adding a division\n",
    "                                    html.Div([\n",
    "                                        # Creating a division for adding dropdown helper text for report type\n",
    "                                        html.Div(\n",
    "                                            [\n",
    "                                            html.H2('Report Type:', style={'margin-right': '2em'}),\n",
    "                                            ]\n",
    "                                        ),\n",
    "                                        #  Add a dropdown\n",
    "                                         dcc.Dropdown(id='input-type',\n",
    "                                             options= [\n",
    "                                                 {'label': 'Yearly Airline Performance Report', 'value': 'OPT1'},\n",
    "                                                 {'label': 'Yearly Airline Delay Report', 'value': 'OPT2'}\n",
    "                                             ],\n",
    "                                             placeholder='Select a report type',\n",
    "                                             style= {'width':'80%','padding':'3px','font-size':'20px','textAlign':'center',}),\n",
    "                                 # Placing them next to each other using the division style\n",
    "                                    ], style={'display':'flex'}),\n",
    "                                    \n",
    "                                   # Adding a next division \n",
    "                                   html.Div([\n",
    "                                       # Creating a division for adding dropdown helper text for choosing year\n",
    "                                        html.Div(\n",
    "                                            [\n",
    "                                            html.H2('Choose Year:', style={'margin-right': '2em'})\n",
    "                                            ]\n",
    "                                        ),\n",
    "                                        dcc.Dropdown(id='input-year', \n",
    "                                                     # Updating dropdown values using list comphrehension\n",
    "                                                     options=[{'label': i, 'value': i} for i in year_list],\n",
    "                                                     placeholder=\"Select a year\",\n",
    "                                                     style={'width':'80%', 'padding':'3px', 'font-size': '20px', 'text-align-last' : 'center'}),\n",
    "                                            # Placing them next to each other using the division style\n",
    "                                            ], style={'display': 'flex'}),  \n",
    "                                          ]),\n",
    "                                \n",
    "                                # Adding Computed graphs\n",
    "                                html.Div([ ], id='plot1'),\n",
    "    \n",
    "                                html.Div([\n",
    "                                        html.Div([ ], id='plot2'),\n",
    "                                        html.Div([ ], id='plot3')\n",
    "                                ], style={'display': 'flex'}),\n",
    "                                \n",
    "                                # Add a division with two empty divisions inside.\n",
    "                                 html.Div([\n",
    "                                     html.Div([ ], id = 'plot4'),\n",
    "                                     html.Div([ ], id = 'plot5')],\n",
    "                                     style = {'display': 'flex'})\n",
    "                                ])\n",
    "\n",
    "# Callback function definition\n",
    "\n",
    "@app.callback( [Output(component_id='plot1', component_property='children'),\n",
    "                Output(component_id='plot2', component_property='children'),\n",
    "                Output(component_id='plot3', component_property='children'),\n",
    "                Output(component_id='plot4', component_property='children'),\n",
    "                Output(component_id='plot5', component_property='children')],\n",
    "               [Input(component_id='input-type', component_property='value'),\n",
    "                Input(component_id='input-year', component_property='value')],\n",
    "               # Holding output state till user enters all the form information. In this case, it will be chart type and year\n",
    "               [State(\"plot1\", 'children'), State(\"plot2\", \"children\"),\n",
    "                State(\"plot3\", \"children\"), State(\"plot4\", \"children\"),\n",
    "                State(\"plot5\", \"children\")\n",
    "               ])\n",
    "# Creating a function to return the graphs \n",
    "def get_graph(chart, year, children1, children2, c3, c4, c5):\n",
    "      \n",
    "        # Select data\n",
    "        df =  airline_data[airline_data['Year']==int(year)]\n",
    "       \n",
    "        if chart == 'OPT1':\n",
    "            # Getting the required data for creating graph \n",
    "            bar_data, line_data, div_data, map_data, tree_data = compute_data_choice_1(df)\n",
    "            \n",
    "            #  A bar graph showing the number of flights under different cancellation categories\n",
    "            bar_fig = px.bar(bar_data, x='Month', y='Flights', color='CancellationCode', title='Monthly Flight Cancellation')\n",
    "            \n",
    "            # A line chart for Average flight time by reporting airline\n",
    "            line_fig = px.line(line_data, x='Month', y='AirTime', color='Reporting_Airline', title='Average Monthly flight time (minutes) by airline')\n",
    "            \n",
    "            # A pie chart showing the percentage of diverted airport landings per reporting airline\n",
    "            pie_fig = px.pie(div_data, values='Flights', names='Reporting_Airline', title='% of flights by reporting airline')\n",
    "            \n",
    "            # A map showing the number of flights flying from each state using choropleth\n",
    "            map_fig = px.choropleth(map_data,  # Input data\n",
    "                    locations='OriginState', \n",
    "                    color='Flights',  \n",
    "                    hover_data=['OriginState', 'Flights'], \n",
    "                    locationmode = 'USA-states', # Set to plot as US States\n",
    "                    color_continuous_scale='GnBu',\n",
    "                    range_color=[0, map_data['Flights'].max()]) \n",
    "            map_fig.update_layout(\n",
    "                    title_text = 'Number of flights from origin state', \n",
    "                    geo_scope='usa')\n",
    "            \n",
    "            # A tree map of the number of flights flying to each state from each reporting airline\n",
    "            tree_fig = px.treemap(tree_data, path=['DestState', 'Reporting_Airline'], \n",
    "                      values='Flights',\n",
    "                      color='Flights',\n",
    "                      color_continuous_scale='RdBu',\n",
    "                      title='Flight count by airline to destination state'\n",
    "                )\n",
    "           # Returned dcc.Graph component to the empty division\n",
    "            return [dcc.Graph(figure=tree_fig), \n",
    "                    dcc.Graph(figure=pie_fig),\n",
    "                    dcc.Graph(figure=map_fig),\n",
    "                    dcc.Graph(figure=bar_fig),\n",
    "                    dcc.Graph(figure=line_fig)\n",
    "                   ]\n",
    "        else:\n",
    "            # This covers chart type 2 \n",
    "            # Computing required information for creating graph from the data\n",
    "            avg_car, avg_weather, avg_NAS, avg_sec, avg_late = compute_data_choice_2(df)\n",
    "            \n",
    "            # Create graph\n",
    "            carrier_fig = px.line(avg_car, x='Month', y='CarrierDelay', color='Reporting_Airline', title='Average carrrier delay time (minutes) by airline')\n",
    "            weather_fig = px.line(avg_weather, x='Month', y='WeatherDelay', color='Reporting_Airline', title='Average weather delay time (minutes) by airline')\n",
    "            nas_fig = px.line(avg_NAS, x='Month', y='NASDelay', color='Reporting_Airline', title='Average NAS delay time (minutes) by airline')\n",
    "            sec_fig = px.line(avg_sec, x='Month', y='SecurityDelay', color='Reporting_Airline', title='Average security delay time (minutes) by airline')\n",
    "            late_fig = px.line(avg_late, x='Month', y='LateAircraftDelay', color='Reporting_Airline', title='Average late aircraft delay time (minutes) by airline')\n",
    "            \n",
    "            return[dcc.Graph(figure=carrier_fig), \n",
    "                   dcc.Graph(figure=weather_fig), \n",
    "                   dcc.Graph(figure=nas_fig), \n",
    "                   dcc.Graph(figure=sec_fig), \n",
    "                   dcc.Graph(figure=late_fig)]\n",
    "    \n",
    "# Run the app\n",
    "if __name__ == '__main__':\n",
    "    # REVIEW8: Adding dev_tools_ui=False, dev_tools_props_check=False can prevent error appearing before calling callback function\n",
    "    app.run_server(mode=\"inline\", host=\"localhost\", debug=False, dev_tools_ui=False, dev_tools_props_check=False, port = 2221)\n"
   ]
  }
 ],
 "metadata": {
  "kernelspec": {
   "display_name": "Python 3",
   "language": "python",
   "name": "python3"
  },
  "language_info": {
   "codemirror_mode": {
    "name": "ipython",
    "version": 3
   },
   "file_extension": ".py",
   "mimetype": "text/x-python",
   "name": "python",
   "nbconvert_exporter": "python",
   "pygments_lexer": "ipython3",
   "version": "3.8.8"
  }
 },
 "nbformat": 4,
 "nbformat_minor": 4
}
